{
  "nbformat": 4,
  "nbformat_minor": 0,
  "metadata": {
    "colab": {
      "name": "perspective_experiments.ipynb",
      "provenance": [],
      "collapsed_sections": [],
      "mount_file_id": "1ZnIYmeSUCYZWeAbAfDENGvIFnWsbBUBf",
      "authorship_tag": "ABX9TyMC7U4j+4gg6MCjjZklE+0l",
      "include_colab_link": true
    },
    "kernelspec": {
      "name": "python3",
      "display_name": "Python 3"
    }
  },
  "cells": [
    {
      "cell_type": "markdown",
      "metadata": {
        "id": "view-in-github",
        "colab_type": "text"
      },
      "source": [
        "<a href=\"https://colab.research.google.com/github/sayarghoshroy/Hate-Speech-Detection/blob/master/perspective_experiments.ipynb\" target=\"_parent\"><img src=\"https://colab.research.google.com/assets/colab-badge.svg\" alt=\"Open In Colab\"/></a>"
      ]
    },
    {
      "cell_type": "code",
      "metadata": {
        "id": "_IyDVzQvqG56",
        "colab_type": "code",
        "colab": {}
      },
      "source": [
        "# Testing Effectiveness of Perspective API features"
      ],
      "execution_count": 1,
      "outputs": []
    },
    {
      "cell_type": "code",
      "metadata": {
        "id": "lX5EB6Nfu5jz",
        "colab_type": "code",
        "colab": {}
      },
      "source": [
        "import pickle\n",
        "import numpy as np\n",
        "import random\n",
        "from sklearn.metrics import classification_report\n",
        "import pandas as pd\n",
        "from sklearn import model_selection, preprocessing, linear_model, naive_bayes, metrics, svm, neighbors\n",
        "from sklearn.neural_network import MLPClassifier\n",
        "import matplotlib.pyplot as plt"
      ],
      "execution_count": 2,
      "outputs": []
    },
    {
      "cell_type": "code",
      "metadata": {
        "id": "gQHl0mFguj5G",
        "colab_type": "code",
        "colab": {
          "base_uri": "https://localhost:8080/",
          "height": 35
        },
        "outputId": "6b42807b-22ba-4d23-a983-2563a1d283a7"
      },
      "source": [
        "from google.colab import drive\n",
        "drive.mount('/content/drive')"
      ],
      "execution_count": 3,
      "outputs": [
        {
          "output_type": "stream",
          "text": [
            "Drive already mounted at /content/drive; to attempt to forcibly remount, call drive.mount(\"/content/drive\", force_remount=True).\n"
          ],
          "name": "stdout"
        }
      ]
    },
    {
      "cell_type": "code",
      "metadata": {
        "id": "fevc0sOduF8s",
        "colab_type": "code",
        "colab": {}
      },
      "source": [
        "# Loading datasets\n",
        "\n",
        "en_load = '/content/drive/My Drive/HASOC_raw_data/perspective_train/en.pickle'\n",
        "en_pers = {}\n",
        "\n",
        "ge_load = '/content/drive/My Drive/HASOC_raw_data/perspective_train/ge.pickle'\n",
        "ge_pers = {}\n",
        "\n",
        "en_data_load = '/content/drive/My Drive/2020_processed_data/en.pickle'\n",
        "en_data = {}\n",
        "\n",
        "ge_data_load = '/content/drive/My Drive/2020_processed_data/ge.pickle'\n",
        "ge_data = {}\n",
        "\n",
        "with open(en_load, 'rb') as f:\n",
        "  en_pers = pickle.load(f)\n",
        "\n",
        "with open(ge_load, 'rb') as f:\n",
        "  ge_pers = pickle.load(f)\n",
        "\n",
        "with open(en_data_load, 'rb') as f:\n",
        "  en_data = pickle.load(f)\n",
        "\n",
        "with open(ge_data_load, 'rb') as f:\n",
        "  ge_data = pickle.load(f)"
      ],
      "execution_count": 4,
      "outputs": []
    },
    {
      "cell_type": "code",
      "metadata": {
        "id": "LfRQxw4NvDf8",
        "colab_type": "code",
        "colab": {
          "base_uri": "https://localhost:8080/",
          "height": 230
        },
        "outputId": "ab670ac5-a098-4657-b58a-ddd214d8dc50"
      },
      "source": [
        "# Visualizing Data\n",
        "for key in ge_pers.keys():\n",
        "  print(str(key))\n",
        "  # Uncomment to visualize actual values\n",
        "  # print(str(key) + \": \" + str(ge_pers[key]))"
      ],
      "execution_count": 5,
      "outputs": [
        {
          "output_type": "stream",
          "text": [
            "TOXICITY_WHOLE\n",
            "TOXICITY_RAW\n",
            "SEVERE_TOXICITY_WHOLE\n",
            "SEVERE_TOXICITY_RAW\n",
            "IDENTITY_ATTACK_WHOLE\n",
            "IDENTITY_ATTACK_RAW\n",
            "INSULT_WHOLE\n",
            "INSULT_RAW\n",
            "PROFANITY_WHOLE\n",
            "PROFANITY_RAW\n",
            "THREAT_WHOLE\n",
            "THREAT_RAW\n"
          ],
          "name": "stdout"
        }
      ]
    },
    {
      "cell_type": "code",
      "metadata": {
        "id": "G3OJ5bqlw974",
        "colab_type": "code",
        "colab": {
          "base_uri": "https://localhost:8080/",
          "height": 55
        },
        "outputId": "7cfc260c-ff9c-4ff1-a41b-7e594f121b23"
      },
      "source": [
        "# Testing Load Correctness\n",
        "ge_data.keys()"
      ],
      "execution_count": 6,
      "outputs": [
        {
          "output_type": "execute_result",
          "data": {
            "text/plain": [
              "dict_keys(['tweet_id', 'task_1', 'task_2', 'hasoc_id', 'full_tweet', 'tweet_raw_text', 'hashtags', 'smiley', 'emoji', 'url', 'mentions', 'numerals', 'reserved_word', 'emotext', 'segmented_hash'])"
            ]
          },
          "metadata": {
            "tags": []
          },
          "execution_count": 6
        }
      ]
    },
    {
      "cell_type": "code",
      "metadata": {
        "id": "Oi0FO1y7vMle",
        "colab_type": "code",
        "colab": {
          "base_uri": "https://localhost:8080/",
          "height": 53
        },
        "outputId": "7332d1e2-e67a-4599-a5d8-821382b08e30"
      },
      "source": [
        "x = []\n",
        "y = []\n",
        "\n",
        "# Uncomment to Run for English\n",
        "# language = \"EN\"\n",
        "\n",
        "# Uncomment to Run for German\n",
        "language = \"GE\"\n",
        "\n",
        "if language == \"EN\":\n",
        "    data_size = len(en_data['task_1'])\n",
        "\n",
        "    for idx in range(data_size):\n",
        "      y.append(en_data['task_1'][idx])\n",
        "\n",
        "    x_matrix = []\n",
        "    for key in en_pers.keys():\n",
        "      if key == \"RAW_SPAN\" or key == \"WHOLE_SPAN\":\n",
        "        continue\n",
        "      x_matrix.append(en_pers[key])\n",
        "\n",
        "    x_matrix = np.asmatrix(x_matrix).T\n",
        "    y = np.asmatrix(y).T\n",
        "    # View Dimensions\n",
        "    print(\"x Dimensions: \" + str(np.shape(x_matrix)))\n",
        "    print(\"y Dimensions: \" + str(np.shape(y)))\n",
        "\n",
        "elif language == \"GE\":\n",
        "    data_size = len(ge_data['task_1'])\n",
        "\n",
        "    for idx in range(data_size):\n",
        "      y.append(ge_data['task_1'][idx])\n",
        "\n",
        "    x_matrix = []\n",
        "    for key in ge_pers.keys():\n",
        "      if key == \"RAW_SPAN\" or key == \"WHOLE_SPAN\":\n",
        "        continue\n",
        "      x_matrix.append(ge_pers[key])\n",
        "\n",
        "    x_matrix = np.asmatrix(x_matrix).T\n",
        "    y = np.asmatrix(y).T\n",
        "    # View Dimensions\n",
        "    print(\"x Dimensions: \" + str(np.shape(x_matrix)))\n",
        "    print(\"y Dimensions: \" + str(np.shape(y)))"
      ],
      "execution_count": 7,
      "outputs": [
        {
          "output_type": "stream",
          "text": [
            "x Dimensions: (2373, 12)\n",
            "y Dimensions: (2373, 1)\n"
          ],
          "name": "stdout"
        }
      ]
    },
    {
      "cell_type": "code",
      "metadata": {
        "id": "LhdL7xcIxdaE",
        "colab_type": "code",
        "colab": {}
      },
      "source": [
        "train_X, test_X, train_Y, test_Y = model_selection.train_test_split(x_matrix, y, random_state = 42, test_size = 0.2)\n",
        "train_Y = np.ravel(train_Y)\n",
        "test_Y = np.ravel(test_Y)"
      ],
      "execution_count": 8,
      "outputs": []
    },
    {
      "cell_type": "code",
      "metadata": {
        "id": "PLRL6p1_z5E3",
        "colab_type": "code",
        "colab": {
          "base_uri": "https://localhost:8080/",
          "height": 88
        },
        "outputId": "4956d917-d3b3-4c5f-fdc4-6e310d0924a7"
      },
      "source": [
        "# Viewing Data Shapes\n",
        "print(\"Train X: \" + str(np.shape(train_X)))\n",
        "print(\"Train Y: \" + str(np.shape(train_Y)))\n",
        "print(\"Test X: \" + str(np.shape(test_X)))\n",
        "print(\"Test Y: \" + str(np.shape(test_Y)))"
      ],
      "execution_count": 9,
      "outputs": [
        {
          "output_type": "stream",
          "text": [
            "Train X: (1898, 12)\n",
            "Train Y: (1898,)\n",
            "Test X: (475, 12)\n",
            "Test Y: (475,)\n"
          ],
          "name": "stdout"
        }
      ]
    },
    {
      "cell_type": "code",
      "metadata": {
        "id": "aCM2faHbz7qS",
        "colab_type": "code",
        "colab": {}
      },
      "source": [
        "# Sklearn Implementation of SGD with 1e6 iterations\n",
        "def train(X, y, active = 'relu', sol = 'adam', learn = 'adaptive'):\n",
        "    reg = MLPClassifier(alpha = 0,\n",
        "                       learning_rate_init = 1e-2 * 5,\n",
        "                       learning_rate = learn,\n",
        "                       hidden_layer_sizes = (32, 64, 128, 256, 512, 256, 64, 32, 16, 8, 4, 1),\n",
        "                       random_state = 2020,\n",
        "                       activation = active,\n",
        "                       max_iter = int(1e5),\n",
        "                       solver = sol,\n",
        "                       momentum = 0.9)\n",
        "    reg.fit(X, y)\n",
        "    return reg\n",
        "    # reg is our trained model\n",
        "\n",
        "def get_train_test_res(reg):\n",
        "    pred_y_train = reg.predict(train_X)\n",
        "    pred_y_test = reg.predict(test_X)\n",
        "    target_names = ['HOF', 'NOT']\n",
        "\n",
        "    total = 0\n",
        "    matches = 0\n",
        "    size = np.shape(pred_y_test)[0]\n",
        "    for idx in range(size):\n",
        "      if pred_y_test[idx] == test_Y[idx]:\n",
        "        matches += 1\n",
        "      total += 1\n",
        "    print(\"Accuracy = \" + str(matches / total * 100) + \"%\")\n",
        "    print(\"\")\n",
        "    # Uncomment to View Full Reports\n",
        "    # print(classification_report(test_Y, pred_y_test, target_names = target_names))"
      ],
      "execution_count": 10,
      "outputs": []
    },
    {
      "cell_type": "code",
      "metadata": {
        "id": "-dB_CvsL0wX0",
        "colab_type": "code",
        "colab": {
          "base_uri": "https://localhost:8080/",
          "height": 390
        },
        "outputId": "4e7e8f13-0035-4d8c-d54f-5bed138ea706"
      },
      "source": [
        "activations = ['tanh'] # , 'relu', 'identity', 'logistic']\n",
        "solvers = ['adam', 'lbfgs', 'sgd']\n",
        "learning_rates = ['constant', 'invscaling', 'adaptive']\n",
        "model_number = 1\n",
        "# On German, identity activation + sgd solver gives overflow problems\n",
        "for active in activations:\n",
        "    print(\"### \" + str(active) + \" Activation\")\n",
        "    for sol in solvers:\n",
        "        if active == 'tanh' and sol == 'lbfgs':\n",
        "          continue\n",
        "        if language == \"GE\" and active == \"identity\" and sol == \"sgd\":\n",
        "          continue\n",
        "        print(\"#### \" + str(sol) + \" Solver\")\n",
        "        for learn in learning_rates:\n",
        "            model = train(train_X, train_Y, active, sol, learn)\n",
        "            print(str(model_number) + \". \" + \" Learn Rate = \" + str(learn) + \" : \")\n",
        "            get_train_test_res(model)\n",
        "            model_number += 1"
      ],
      "execution_count": 11,
      "outputs": [
        {
          "output_type": "stream",
          "text": [
            "### tanh Activation\n",
            "#### adam Solver\n",
            "1.  Learn Rate = constant : \n",
            "Accuracy = 70.94736842105263%\n",
            "\n",
            "2.  Learn Rate = invscaling : \n",
            "Accuracy = 70.94736842105263%\n",
            "\n",
            "3.  Learn Rate = adaptive : \n",
            "Accuracy = 70.94736842105263%\n",
            "\n",
            "#### sgd Solver\n",
            "4.  Learn Rate = constant : \n",
            "Accuracy = 81.89473684210526%\n",
            "\n",
            "5.  Learn Rate = invscaling : \n",
            "Accuracy = 70.94736842105263%\n",
            "\n",
            "6.  Learn Rate = adaptive : \n",
            "Accuracy = 84.42105263157896%\n",
            "\n"
          ],
          "name": "stdout"
        }
      ]
    },
    {
      "cell_type": "markdown",
      "metadata": {
        "id": "GI_7wPWya1bh",
        "colab_type": "text"
      },
      "source": [
        "### Random Seed Used: 42\n",
        "#### For all experiments"
      ]
    },
    {
      "cell_type": "markdown",
      "metadata": {
        "id": "6ITZV5skMTTp",
        "colab_type": "text"
      },
      "source": [
        "#Results for English\n",
        "\n",
        "## identity Activation\n",
        "### lbfgs solver\n",
        "1. Learn Rate = constant : Accuracy = 90.02695417789758%\n",
        "\n",
        "2. Learn Rate = invscaling : Accuracy = 90.02695417789758%\n",
        "\n",
        "3. Learn Rate = adaptive : Accuracy = 90.02695417789758%\n",
        "\n",
        "### sgd Solver\n",
        "4. Learn Rate = constant : Accuracy = 89.75741239892183%\n",
        "\n",
        "5. Learn Rate = invscaling : Accuracy = 88.27493261455525%\n",
        "\n",
        "6. Learn Rate = adaptive : Accuracy = 89.35309973045821%\n",
        "\n",
        "### adam Solver\n",
        "7. Learn Rate = constant : Accuracy = 82.61455525606469%\n",
        "\n",
        "8. Learn Rate = invscaling : Accuracy = 82.61455525606469%\n",
        "\n",
        "9. Learn Rate = adaptive : Accuracy = 82.61455525606469%\n",
        "\n",
        "## logistic Activation\n",
        "### lbfgs Solver\n",
        "1. Learn Rate = constant : Accuracy = 47.03504043126684%\n",
        "\n",
        "2. Learn Rate = invscaling : Accuracy = 47.03504043126684%\n",
        "\n",
        "3. Learn Rate = adaptive : Accuracy = 47.03504043126684%\n",
        "\n",
        "### sgd Solver\n",
        "4. Learn Rate = constant : Accuracy = 47.03504043126684%\n",
        "\n",
        "5. Learn Rate = invscaling : Accuracy = 52.96495956873315%\n",
        "\n",
        "6. Learn Rate = adaptive : Accuracy = 47.03504043126684%\n",
        "\n",
        "### adam Solver\n",
        "7. Learn Rate = constant : Accuracy = 47.03504043126684%\n",
        "\n",
        "8. Learn Rate = invscaling : Accuracy = 47.03504043126684%\n",
        "\n",
        "9. Learn Rate = adaptive : Accuracy = 47.03504043126684%\n",
        "\n",
        "## relu Activation\n",
        "### sgd Solver\n",
        "1. Learn Rate = constant : Accuracy = 89.35309973045821%\n",
        "\n",
        "2. Learn Rate = invscaling : Accuracy = 84.50134770889488%\n",
        "\n",
        "3. Learn Rate = adaptive : Accuracy = 89.08355795148249%\n",
        "\n",
        "### adam Solver\n",
        "4. Learn Rate = constant : Accuracy = 47.03504043126684%\n",
        "\n",
        "5. Learn Rate = invscaling : Accuracy = 47.03504043126684%\n",
        "\n",
        "6. Learn Rate = adaptive : Accuracy = 47.03504043126684%\n",
        "\n",
        "### lbfgs solver\n",
        "7. Learn Rate = constant : Accuracy = 88.94878706199461%\n",
        "\n",
        "8. Learn Rate = invscaling : Accuracy = 88.94878706199461%\n",
        "\n",
        "9. Learn Rate = adaptive : Accuracy = 88.94878706199461%\n",
        "\n",
        "## tanh Activation\n",
        "### sgd Solver\n",
        "1. Learn Rate = constant : Accuracy = 89.8921832884097%\n",
        "\n",
        "2. Learn Rate = invscaling : Accuracy = 89.4878706199461%\n",
        "\n",
        "3. Learn Rate = adaptive : Accuracy = 87.87061994609164%\n",
        "\n",
        "### adam Solver\n",
        "4. Learn Rate = constant : Accuracy = 47.03504043126684%\n",
        "\n",
        "5. Learn Rate = invscaling : Accuracy = 47.03504043126684%\n",
        "\n",
        "6. Learn Rate = adaptive : Accuracy = 47.03504043126684%"
      ]
    },
    {
      "cell_type": "markdown",
      "metadata": {
        "id": "aSXci318VmcB",
        "colab_type": "text"
      },
      "source": [
        "# Results for German\n",
        "\n",
        "### tanh Activation\n",
        "#### sgd Solver\n",
        "1.  Learn Rate = constant : \n",
        "Accuracy = 81.89473684210526%\n",
        "\n",
        "2.  Learn Rate = invscaling : \n",
        "Accuracy = 70.94736842105263%\n",
        "\n",
        "3.  Learn Rate = adaptive : \n",
        "Accuracy = 84.42105263157896%\n",
        "\n",
        "#### adam Solver\n",
        "4.  Learn Rate = constant : \n",
        "Accuracy = 70.94736842105263%\n",
        "\n",
        "5.  Learn Rate = invscaling : \n",
        "Accuracy = 70.94736842105263%\n",
        "\n",
        "6.  Learn Rate = adaptive : \n",
        "Accuracy = 70.94736842105263%\n",
        "\n",
        "### logistic Activation\n",
        "#### sgd Solver\n",
        "1.  Learn Rate = constant : \n",
        "Accuracy = 70.94736842105263%\n",
        "\n",
        "2.  Learn Rate = invscaling : \n",
        "Accuracy = 70.94736842105263%\n",
        "\n",
        "3.  Learn Rate = adaptive : \n",
        "Accuracy = 70.94736842105263%\n",
        "\n",
        "#### adam Solver\n",
        "4.  Learn Rate = constant : \n",
        "Accuracy = 70.94736842105263%\n",
        "\n",
        "5.  Learn Rate = invscaling : \n",
        "Accuracy = 70.94736842105263%\n",
        "\n",
        "6.  Learn Rate = adaptive : \n",
        "Accuracy = 70.94736842105263%\n",
        "\n",
        "#### lbfgs Solver\n",
        "7.  Learn Rate = constant : \n",
        "Accuracy = 70.94736842105263%\n",
        "\n",
        "8.  Learn Rate = invscaling : \n",
        "Accuracy = 70.94736842105263%\n",
        "\n",
        "9.  Learn Rate = adaptive : \n",
        "Accuracy = 70.94736842105263%\n",
        "\n",
        "### relu Activation\n",
        "#### sgd Solver\n",
        "1.  Learn Rate = constant : \n",
        "Accuracy = 70.94736842105263%\n",
        "\n",
        "2.  Learn Rate = invscaling : \n",
        "Accuracy = 70.94736842105263%\n",
        "\n",
        "3.  Learn Rate = adaptive : \n",
        "Accuracy = 70.94736842105263%\n",
        "\n",
        "#### adam Solver\n",
        "4.  Learn Rate = constant : \n",
        "Accuracy = 70.94736842105263%\n",
        "\n",
        "5.  Learn Rate = invscaling : \n",
        "Accuracy = 70.94736842105263%\n",
        "\n",
        "6.  Learn Rate = adaptive : \n",
        "Accuracy = 70.94736842105263%\n",
        "\n",
        "#### lbfgs Solver\n",
        "7.  Learn Rate = constant : \n",
        "Accuracy = 70.94736842105263%\n",
        "\n",
        "8.  Learn Rate = invscaling : \n",
        "Accuracy = 70.94736842105263%\n",
        "\n",
        "9.  Learn Rate = adaptive : \n",
        "Accuracy = 70.94736842105263%\n",
        "\n",
        "### identity Activation\n",
        "#### adam Solver\n",
        "1.  Learn Rate = constant : \n",
        "Accuracy = 84.0%\n",
        "\n",
        "2.  Learn Rate = invscaling : \n",
        "Accuracy = 84.0%\n",
        "\n",
        "3.  Learn Rate = adaptive : \n",
        "Accuracy = 84.0%\n",
        "\n",
        "#### lbfgs Solver\n",
        "4.  Learn Rate = constant : \n",
        "Accuracy = 82.94736842105263%\n",
        "\n",
        "5.  Learn Rate = invscaling : \n",
        "Accuracy = 82.94736842105263%\n",
        "\n",
        "6.  Learn Rate = adaptive : \n",
        "Accuracy = 82.94736842105263%"
      ]
    },
    {
      "cell_type": "code",
      "metadata": {
        "id": "Q308nIjg1mbN",
        "colab_type": "code",
        "colab": {}
      },
      "source": [
        "# ^_^ Thank You"
      ],
      "execution_count": 12,
      "outputs": []
    }
  ]
}