{
  "nbformat": 4,
  "nbformat_minor": 0,
  "metadata": {
    "colab": {
      "name": "tweet_processor.ipynb",
      "provenance": [],
      "collapsed_sections": [],
      "authorship_tag": "ABX9TyPxDfY6jG78kns9fmcJq+Qh",
      "include_colab_link": true
    },
    "kernelspec": {
      "name": "python3",
      "display_name": "Python 3"
    }
  },
  "cells": [
    {
      "cell_type": "markdown",
      "metadata": {
        "id": "view-in-github",
        "colab_type": "text"
      },
      "source": [
        "<a href=\"https://colab.research.google.com/github/sayarghoshroy/Hate-Speech-Detection/blob/master/tweet_processor.ipynb\" target=\"_parent\"><img src=\"https://colab.research.google.com/assets/colab-badge.svg\" alt=\"Open In Colab\"/></a>"
      ]
    },
    {
      "cell_type": "code",
      "metadata": {
        "id": "5SzZYXq3ER6b",
        "colab_type": "code",
        "colab": {}
      },
      "source": [
        "import pandas as pd\n",
        "import xlrd\n",
        "import re\n",
        "import pickle\n",
        "import csv"
      ],
      "execution_count": 1,
      "outputs": []
    },
    {
      "cell_type": "code",
      "metadata": {
        "id": "cOqUHRECEX9o",
        "colab_type": "code",
        "colab": {
          "base_uri": "https://localhost:8080/",
          "height": 319
        },
        "outputId": "0911749c-b53f-4f9e-bb3e-512d1b1d4be1"
      },
      "source": [
        "# Uncomment if you're running it for the first time\n",
        "!pip install ekphrasis\n",
        "from ekphrasis.classes.segmenter import Segmenter\n",
        "# to leverage word statistics from Twitter\n",
        "seg_tw = Segmenter(corpus = \"twitter\")"
      ],
      "execution_count": 2,
      "outputs": [
        {
          "output_type": "stream",
          "text": [
            "Requirement already satisfied: ekphrasis in /usr/local/lib/python3.6/dist-packages (0.5.1)\n",
            "Requirement already satisfied: nltk in /usr/local/lib/python3.6/dist-packages (from ekphrasis) (3.2.5)\n",
            "Requirement already satisfied: tqdm in /usr/local/lib/python3.6/dist-packages (from ekphrasis) (4.41.1)\n",
            "Requirement already satisfied: ftfy in /usr/local/lib/python3.6/dist-packages (from ekphrasis) (5.8)\n",
            "Requirement already satisfied: matplotlib in /usr/local/lib/python3.6/dist-packages (from ekphrasis) (3.2.2)\n",
            "Requirement already satisfied: numpy in /usr/local/lib/python3.6/dist-packages (from ekphrasis) (1.18.5)\n",
            "Requirement already satisfied: termcolor in /usr/local/lib/python3.6/dist-packages (from ekphrasis) (1.1.0)\n",
            "Requirement already satisfied: ujson in /usr/local/lib/python3.6/dist-packages (from ekphrasis) (3.2.0)\n",
            "Requirement already satisfied: colorama in /usr/local/lib/python3.6/dist-packages (from ekphrasis) (0.4.3)\n",
            "Requirement already satisfied: six in /usr/local/lib/python3.6/dist-packages (from nltk->ekphrasis) (1.15.0)\n",
            "Requirement already satisfied: wcwidth in /usr/local/lib/python3.6/dist-packages (from ftfy->ekphrasis) (0.2.5)\n",
            "Requirement already satisfied: python-dateutil>=2.1 in /usr/local/lib/python3.6/dist-packages (from matplotlib->ekphrasis) (2.8.1)\n",
            "Requirement already satisfied: kiwisolver>=1.0.1 in /usr/local/lib/python3.6/dist-packages (from matplotlib->ekphrasis) (1.2.0)\n",
            "Requirement already satisfied: cycler>=0.10 in /usr/local/lib/python3.6/dist-packages (from matplotlib->ekphrasis) (0.10.0)\n",
            "Requirement already satisfied: pyparsing!=2.0.4,!=2.1.2,!=2.1.6,>=2.0.1 in /usr/local/lib/python3.6/dist-packages (from matplotlib->ekphrasis) (2.4.7)\n",
            "Reading twitter - 1grams ...\n",
            "Reading twitter - 2grams ...\n"
          ],
          "name": "stdout"
        }
      ]
    },
    {
      "cell_type": "code",
      "metadata": {
        "id": "cvfnKs-dEZwN",
        "colab_type": "code",
        "colab": {
          "base_uri": "https://localhost:8080/",
          "height": 35
        },
        "outputId": "0d6002e5-ae50-4bd0-8f2d-6d4ac61ffd32"
      },
      "source": [
        "# Uncomment if you're running it for the first time\n",
        "!pip install tweet-preprocessor\n",
        "import preprocessor as tweet_proc"
      ],
      "execution_count": 3,
      "outputs": [
        {
          "output_type": "stream",
          "text": [
            "Requirement already satisfied: tweet-preprocessor in /usr/local/lib/python3.6/dist-packages (0.6.0)\n"
          ],
          "name": "stdout"
        }
      ]
    },
    {
      "cell_type": "code",
      "metadata": {
        "id": "Wk2BUZTuEdN1",
        "colab_type": "code",
        "colab": {
          "base_uri": "https://localhost:8080/",
          "height": 35
        },
        "outputId": "ae9779a1-b187-4648-a971-5a82e12ce5fc"
      },
      "source": [
        "# Uncomment if you're running it for the first time\n",
        "!pip install emot\n",
        "from emot.emo_unicode import UNICODE_EMO, EMOTICONS"
      ],
      "execution_count": 4,
      "outputs": [
        {
          "output_type": "stream",
          "text": [
            "Requirement already satisfied: emot in /usr/local/lib/python3.6/dist-packages (2.1)\n"
          ],
          "name": "stdout"
        }
      ]
    },
    {
      "cell_type": "markdown",
      "metadata": {
        "id": "HqibDmdYEjIK",
        "colab_type": "text"
      },
      "source": [
        "#### *Raw Datasets are hosted [here](https://drive.google.com/drive/folders/1TuHRQQ41lK9oXJhlhsRiMjMnczuKn_kF?usp=sharing).*"
      ]
    },
    {
      "cell_type": "code",
      "metadata": {
        "id": "SmRsC-wmEhdx",
        "colab_type": "code",
        "colab": {
          "base_uri": "https://localhost:8080/",
          "height": 35
        },
        "outputId": "d867c2c1-b442-4578-8046-429c47068dc6"
      },
      "source": [
        "from google.colab import drive\n",
        "drive.mount('/content/drive', force_remount = True)"
      ],
      "execution_count": 5,
      "outputs": [
        {
          "output_type": "stream",
          "text": [
            "Mounted at /content/drive\n"
          ],
          "name": "stdout"
        }
      ]
    },
    {
      "cell_type": "code",
      "metadata": {
        "id": "fD2Ksnv6EmaS",
        "colab_type": "code",
        "colab": {}
      },
      "source": [
        "def make_list(proc_obj):\n",
        "  if proc_obj == None:\n",
        "    return []\n",
        "  \n",
        "  store = []\n",
        "  for unit in proc_obj:\n",
        "    store.append(unit.match)\n",
        "  \n",
        "  return store\n",
        "\n",
        "def emotext(text):\n",
        "    for emot in UNICODE_EMO:\n",
        "        text = text.replace(emot, \"_\".join(UNICODE_EMO[emot].replace(\",\", \"\").replace(\":\", \"\").split()))\n",
        "    return text"
      ],
      "execution_count": 6,
      "outputs": []
    },
    {
      "cell_type": "code",
      "metadata": {
        "id": "PI524oqVE026",
        "colab_type": "code",
        "colab": {}
      },
      "source": [
        "# For 2020 Datasets\n",
        "\n",
        "is_hindi = 0\n",
        "\n",
        "# For Train Data\n",
        "# datatype = \"train\"\n",
        "# For English\n",
        "# file_name = \"/content/drive/My Drive/HASOC_raw_data/2020_data/english.xlsx\"\n",
        "\n",
        "# For Hindi\n",
        "# file_name = \"/content/drive/My Drive/HASOC_raw_data/2020_data/hindi.xlsx\"\n",
        "# is_hindi = 1\n",
        "\n",
        "# For German\n",
        "# file_name = \"/content/drive/My Drive/HASOC_raw_data/2020_data/german.xlsx\"\n",
        "\n",
        "# For Test Data\n",
        "datatype = \"test\"\n",
        "# For English\n",
        "# file_name = \"/content/drive/My Drive/HASOC_raw_data/2020_test_data/english_test_1509.csv\"\n",
        "\n",
        "# For Hindi\n",
        "# file_name = \"/content/drive/My Drive/HASOC_raw_data/2020_test_data/hindi_test_1509.csv\"\n",
        "# is_hindi = 1\n",
        "\n",
        "# For German\n",
        "file_name = \"/content/drive/My Drive/HASOC_raw_data/2020_test_data/german_test_1509.csv\""
      ],
      "execution_count": 7,
      "outputs": []
    },
    {
      "cell_type": "code",
      "metadata": {
        "id": "nNNoGyv8E5th",
        "colab_type": "code",
        "colab": {}
      },
      "source": [
        "# Initializing Lists\n",
        "datapoints_count = 0\n",
        "see_index = True\n",
        "\n",
        "tweets = []\n",
        "raw_tweet_texts = []\n",
        "tokenized_tweets = []\n",
        "hashtags = []\n",
        "smileys = []\n",
        "emojis = []\n",
        "urls = []\n",
        "mentions = []\n",
        "numbers = []\n",
        "reserveds = []\n",
        "\n",
        "task_1_labels = []\n",
        "task_2_labels = []\n",
        "tweet_ids = []\n",
        "hasoc_ID = []"
      ],
      "execution_count": 8,
      "outputs": []
    },
    {
      "cell_type": "code",
      "metadata": {
        "id": "nsKZHtQ-FvOw",
        "colab_type": "code",
        "colab": {}
      },
      "source": [
        "def strip_list(listie):\n",
        "  stripped = []\n",
        "  for item in listie:\n",
        "    stripped.append(item.strip())\n",
        "  return stripped\n",
        "\n",
        "def hindi_clean(line, parse_obj):\n",
        "  # beta\n",
        "  tokens = line.replace(\":\", \" : \").replace(\",\", \" , \").replace(\";\", \" ; \").split(\" \")\n",
        "  valid_stri = \"\"\n",
        "\n",
        "  for raw_token in tokens:\n",
        "    token = raw_token.strip()\n",
        "    if token in strip_list(make_list(parse_obj.hashtags)):\n",
        "      continue\n",
        "    if token in strip_list(make_list(parse_obj.smileys)):\n",
        "      continue\n",
        "    if token in strip_list(make_list(parse_obj.emojis)):\n",
        "      continue\n",
        "    if token in strip_list(make_list(parse_obj.urls)):\n",
        "      continue\n",
        "    if token in strip_list(make_list(parse_obj.mentions)):\n",
        "      continue\n",
        "    if token in strip_list(make_list(parse_obj.numbers)):\n",
        "      continue\n",
        "    if token in strip_list(make_list(parse_obj.reserved)):\n",
        "      continue\n",
        "    valid_stri = valid_stri + \" \" + token\n",
        "  return valid_stri.strip()"
      ],
      "execution_count": 9,
      "outputs": []
    },
    {
      "cell_type": "code",
      "metadata": {
        "id": "0TuJvskdE95H",
        "colab_type": "code",
        "colab": {}
      },
      "source": [
        "if datatype == 'train':\n",
        "    workbook = xlrd.open_workbook(file_name)\n",
        "    sheet = workbook.sheet_by_index(0)\n",
        "\n",
        "    for row in range(sheet.nrows):\n",
        "        line = sheet.row_values(row)\n",
        "\n",
        "    file = open(file_name, 'r')\n",
        "    file_reader = csv.reader(file, delimiter = \",\")\n",
        "    for line in file_reader:\n",
        "        if see_index == True:\n",
        "            see_index = False\n",
        "            continue\n",
        "\n",
        "        datapoints_count += 1\n",
        "        tweet_ids.append(line[0])\n",
        "        task_1_labels.append(line[2])\n",
        "        task_2_labels.append(line[3])\n",
        "        hasoc_ID.append(line[4])\n",
        "        tweets.append(line[1].replace(\"\\n\", \" \"))\n",
        "\n",
        "        parse_obj = tweet_proc.parse(line[1].replace(\"\\n\", \" \"))\n",
        "        tokenized_tweets.append(tweet_proc.tokenize(line[1].replace(\"\\n\", \" \")))\n",
        "        hashtags.append(strip_list(make_list(parse_obj.hashtags)))\n",
        "        smileys.append(strip_list(make_list(parse_obj.smileys)))\n",
        "        emojis.append(strip_list(make_list(parse_obj.emojis)))\n",
        "        urls.append(strip_list(make_list(parse_obj.urls)))\n",
        "        mentions.append(strip_list(make_list(parse_obj.mentions)))\n",
        "        numbers.append(strip_list(make_list(parse_obj.numbers)))\n",
        "        reserveds.append(strip_list(make_list(parse_obj.reserved)))\n",
        "\n",
        "        if is_hindi == 0:\n",
        "          raw_tweet_texts.append(tweet_proc.clean(line[1].replace(\"\\n\", \" \")))\n",
        "        else:\n",
        "          raw_tweet_texts.append(hindi_clean(line[1].replace(\"\\n\", \" \"), parse_obj))\n",
        "\n",
        "    print(\"Number of Datapoints: \" + str(datapoints_count))"
      ],
      "execution_count": 10,
      "outputs": []
    },
    {
      "cell_type": "code",
      "metadata": {
        "id": "9gtRGkIkNmIv",
        "colab_type": "code",
        "colab": {
          "base_uri": "https://localhost:8080/",
          "height": 35
        },
        "outputId": "9e46fa44-4a8f-44af-884f-9086be627719"
      },
      "source": [
        "if datatype == 'test':\n",
        "    file = open(file_name, 'r')\n",
        "    file_reader = csv.reader(file, delimiter = \",\")\n",
        "    for line in file_reader:\n",
        "        if see_index == True:\n",
        "            see_index = False\n",
        "            continue\n",
        "\n",
        "        datapoints_count += 1\n",
        "        tweet_ids.append(line[0])\n",
        "        task_1_labels.append(line[2])\n",
        "        task_2_labels.append(line[3])\n",
        "        hasoc_ID.append(line[4])\n",
        "        tweets.append(line[1].replace(\"\\n\", \" \"))\n",
        "\n",
        "        parse_obj = tweet_proc.parse(line[1].replace(\"\\n\", \" \"))\n",
        "        tokenized_tweets.append(tweet_proc.tokenize(line[1].replace(\"\\n\", \" \")))\n",
        "        hashtags.append(strip_list(make_list(parse_obj.hashtags)))\n",
        "        smileys.append(strip_list(make_list(parse_obj.smileys)))\n",
        "        emojis.append(strip_list(make_list(parse_obj.emojis)))\n",
        "        urls.append(strip_list(make_list(parse_obj.urls)))\n",
        "        mentions.append(strip_list(make_list(parse_obj.mentions)))\n",
        "        numbers.append(strip_list(make_list(parse_obj.numbers)))\n",
        "        reserveds.append(strip_list(make_list(parse_obj.reserved)))\n",
        "\n",
        "        if is_hindi == 0:\n",
        "          raw_tweet_texts.append(tweet_proc.clean(line[1].replace(\"\\n\", \" \")))\n",
        "        else:\n",
        "          raw_tweet_texts.append(hindi_clean(line[1].replace(\"\\n\", \" \"), parse_obj))\n",
        "\n",
        "    print(\"Number of Datapoints: \" + str(datapoints_count))"
      ],
      "execution_count": 11,
      "outputs": [
        {
          "output_type": "stream",
          "text": [
            "Number of Datapoints: 526\n"
          ],
          "name": "stdout"
        }
      ]
    },
    {
      "cell_type": "code",
      "metadata": {
        "id": "Gd_fy5REFxUX",
        "colab_type": "code",
        "colab": {
          "base_uri": "https://localhost:8080/",
          "height": 410
        },
        "outputId": "31bd67fc-95aa-4699-8df2-678b0e6b06d4"
      },
      "source": [
        "# Viewing Created Dataset\n",
        "\n",
        "print(\"Tweets:\")\n",
        "print(tweets[0: 5])\n",
        "\n",
        "print(\"Raw Texts:\")\n",
        "print(raw_tweet_texts[0: 5])\n",
        "\n",
        "print(\"Hashtags:\")\n",
        "print(hashtags[0: 5])\n",
        "\n",
        "print(\"Smileys:\")\n",
        "print(smileys[0: 5])\n",
        "\n",
        "print(\"Emojis:\")\n",
        "print(emojis[0: 5])\n",
        "\n",
        "print(\"Urls:\")\n",
        "print(urls[0: 5])\n",
        "\n",
        "print(\"Mentions:\")\n",
        "print(mentions[0: 5])\n",
        "\n",
        "print(\"Numbers:\")\n",
        "print(numbers[0: 5])\n",
        "\n",
        "print(\"Reserved Words:\")\n",
        "print(reserveds[0: 5])\n",
        "\n",
        "print(\"Task Labels:\")\n",
        "print(task_1_labels[0: 5])\n",
        "print(task_2_labels[0: 5])"
      ],
      "execution_count": 12,
      "outputs": [
        {
          "output_type": "stream",
          "text": [
            "Tweets:\n",
            "['@derCarsti Boykottieren hört sich besser an. 💙💙', 'RT @ibikus31: Es wird spekuliert, ob Merkel ein Amt in Brüssel übernimmt. Wäre es so, wie schätzen Sie dann die Zukunft der Mitgliedstaaten…', 'Hat #Hitler wirklich den Krieg in der Wüste verloren? Nach der #Welt Schlagzeile hat die #Tagesschau nicht reagiert.', 'RT @Beatrix_vStorch: #May tritt in UK unter Tränen zurück. Wenn #Merkel zurücktritt, dann auch unter Tränen – unter den Freudentränen von M…', '@justmeDoro Eher nicht. Das Gänse hauen wieder ab in ihre warmen Überwinterungsquartiere. 😅😂']\n",
            "Raw Texts:\n",
            "['Boykottieren hrt sich besser an.', ': Es wird spekuliert, ob Merkel ein Amt in Brssel bernimmt. Wre es so, wie schtzen Sie dann die Zukunft der Mitgliedstaaten', 'Hat wirklich den Krieg in der Wste verloren? Nach der Schlagzeile hat die nicht reagiert.', ': tritt in UK unter Trnen zurck. Wenn zurcktritt, dann auch unter Trnen unter den Freudentrnen von M', 'Eher nicht. Das Gnse hauen wieder ab in ihre warmen berwinterungsquartiere.']\n",
            "Hashtags:\n",
            "[[], [], ['#Hitler', '#Welt', '#Tagesschau'], ['#May', '#Merkel'], []]\n",
            "Smileys:\n",
            "[[], [], [], [], []]\n",
            "Emojis:\n",
            "[['💙', '💙'], [], [], [], ['😅', '😂']]\n",
            "Urls:\n",
            "[[], [], [], [], []]\n",
            "Mentions:\n",
            "[['@derCarsti'], ['@ibikus31'], [], ['@Beatrix_vStorch'], ['@justmeDoro']]\n",
            "Numbers:\n",
            "[[], [], [], [], []]\n",
            "Reserved Words:\n",
            "[[], ['RT'], [], ['RT'], []]\n",
            "Task Labels:\n",
            "['NOT', 'NOT', 'NOT', 'NOT', 'NOT']\n",
            "['NONE', 'NONE', 'NONE', 'NONE', 'NONE']\n"
          ],
          "name": "stdout"
        }
      ]
    },
    {
      "cell_type": "code",
      "metadata": {
        "id": "LUrX_FPcIVQR",
        "colab_type": "code",
        "colab": {
          "base_uri": "https://localhost:8080/",
          "height": 53
        },
        "outputId": "138a1162-3919-43e3-c396-a1745c15b244"
      },
      "source": [
        "# Generating Emoji Texts\n",
        "emoji_texts = []\n",
        "\n",
        "for emo_list in emojis:\n",
        "  texts = []\n",
        "  for emoji in emo_list:\n",
        "    text = emotext(emoji)\n",
        "    texts.append(text.replace(\"_\", \" \"))\n",
        "  emoji_texts.append(texts)\n",
        "\n",
        "print(\"Emoji Descriptions:\")\n",
        "print(emoji_texts[0: 5])"
      ],
      "execution_count": 13,
      "outputs": [
        {
          "output_type": "stream",
          "text": [
            "Emoji Descriptions:\n",
            "[['blue heart', 'blue heart'], [], [], [], ['smiling face with open mouth & cold sweat', 'face with tears of joy']]\n"
          ],
          "name": "stdout"
        }
      ]
    },
    {
      "cell_type": "code",
      "metadata": {
        "id": "9PWvCf65IXQT",
        "colab_type": "code",
        "colab": {
          "base_uri": "https://localhost:8080/",
          "height": 53
        },
        "outputId": "d3d1cb70-d883-4adf-8536-9302bfcd126e"
      },
      "source": [
        "# Segmenting Hashtags\n",
        "segmented_hashtags = []\n",
        "\n",
        "for hashset in hashtags:\n",
        "  segmented_set = []\n",
        "  for tag in hashset:\n",
        "    word = tag[1: ]\n",
        "    # removing the hash symbol\n",
        "    segmented_set.append(seg_tw.segment(word))\n",
        "  segmented_hashtags.append(segmented_set)\n",
        "\n",
        "print(\"Segmented Hashtags:\")\n",
        "print(segmented_hashtags[0: 5])"
      ],
      "execution_count": 14,
      "outputs": [
        {
          "output_type": "stream",
          "text": [
            "Segmented Hashtags:\n",
            "[[], [], ['hitler', 'welt', 'tagesschau'], ['may', 'merkel'], []]\n"
          ],
          "name": "stdout"
        }
      ]
    },
    {
      "cell_type": "code",
      "metadata": {
        "id": "UGPepLXoJsqR",
        "colab_type": "code",
        "colab": {}
      },
      "source": [
        "name = 'ge_test.pickle'\n",
        "dickie = {}\n",
        "dickie['tweet_id'] = tweet_ids\n",
        "dickie['task_1'] = task_1_labels\n",
        "dickie['task_2'] = task_2_labels\n",
        "dickie['hasoc_id'] = hasoc_ID\n",
        "dickie['full_tweet'] = tweets\n",
        "dickie['tweet_raw_text'] = raw_tweet_texts\n",
        "dickie['hashtags'] = hashtags\n",
        "dickie['smiley'] = smileys\n",
        "dickie['emoji'] = emojis\n",
        "dickie['url'] = urls\n",
        "dickie['mentions'] = mentions\n",
        "dickie['numerals'] = numbers\n",
        "dickie['reserved_word'] = reserveds\n",
        "dickie['emotext'] = emoji_texts\n",
        "dickie['segmented_hash'] = segmented_hashtags\n",
        "\n",
        "with open(name, 'wb') as f:\n",
        "  pickle.dump(dickie, f)"
      ],
      "execution_count": 15,
      "outputs": []
    },
    {
      "cell_type": "code",
      "metadata": {
        "id": "FK4uO1J1LeIC",
        "colab_type": "code",
        "colab": {
          "base_uri": "https://localhost:8080/",
          "height": 35
        },
        "outputId": "d2839abd-0419-4ba5-e422-cf2914318b4c"
      },
      "source": [
        "with open(name, 'rb') as f:\n",
        "  try_dict = pickle.load(f)\n",
        "\n",
        "sizes = []\n",
        "for key in try_dict.keys():\n",
        "  sizes.append(len(try_dict[key]))\n",
        "\n",
        "# Verifying if all sizes are equal\n",
        "print(sizes)"
      ],
      "execution_count": 16,
      "outputs": [
        {
          "output_type": "stream",
          "text": [
            "[526, 526, 526, 526, 526, 526, 526, 526, 526, 526, 526, 526, 526, 526, 526]\n"
          ],
          "name": "stdout"
        }
      ]
    },
    {
      "cell_type": "code",
      "metadata": {
        "id": "3FUMYDP9IaXe",
        "colab_type": "code",
        "colab": {}
      },
      "source": [
        "# ^_^ Thank You"
      ],
      "execution_count": 17,
      "outputs": []
    }
  ]
}